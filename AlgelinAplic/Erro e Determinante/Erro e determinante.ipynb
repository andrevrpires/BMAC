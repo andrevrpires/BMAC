{
 "cells": [
  {
   "cell_type": "markdown",
   "metadata": {},
   "source": [
    "# Importando as bibliotecas"
   ]
  },
  {
   "cell_type": "code",
   "execution_count": 1,
   "metadata": {},
   "outputs": [],
   "source": [
    "# !/usr/bin/env python3\n",
    "# -*- coding: utf-8 -*-\n",
    "# André Vinícius Rocha Pires\n",
    "# 10737290\n",
    "# Bibliotecas\n",
    "import numpy as np #biblioteca para lidar com matrizes\n",
    "import matplotlib.pyplot as plt #biblioteca para plotar gráficos\n",
    "from math import sqrt #importando a função raiz"
   ]
  },
  {
   "cell_type": "markdown",
   "metadata": {},
   "source": [
    "# O Determinante\n",
    "\n",
    "Calcular o determinante de uma matriz é uma operação muito cara. Durante o desenvolvimento do código, o \"profiler\" da IDE sempre acusava esta função como sendo responsável por $99,9\\%$ do tempo de execução. Os maiores gargalos eram a inicialização das matrizes menores e o \"append\" dos pedaços da orinal nas submatrizes. Foi possível melhorar o \"append\", quer dizer, a transferência dos dados da matriz original para a matriz menor, usando associação simples. Depois, a inicialização das submatrizes, que antes era feita com zeros como valor inicial, passou a ser feita sem definir valores. Conseguimos uma queda de aproximadamente $40\\%$ no tempo de execução, mas ainda era muito (ainda $99,9\\%$). Então, para melhorar a performance de nosso código como um todo, usamos o recurso de sempre usar matrizes triangulares para calcular o determinante. O algoritmo está aqui em sua versão completa, usando o Teorema de Laplace, mas tem uma condição onde primeiro é checado se a matriz é triangular. A redução de tempo obtida por esta técnica é da ordem de $O(n!)$ para $O(n) + O(n^3)$, onde $O(n^3)$ é a complexidade para triangularizar a matriz. Percebemos este atalho como sendo de considerável importância para a economia de recursos, uma vez que a triangularização sempre será executada e, mesmo quando não obtiver sucesso, será uma técnica mais barata para identificar a singularidade da matriz."
   ]
  },
  {
   "cell_type": "code",
   "execution_count": 1,
   "metadata": {},
   "outputs": [],
   "source": [
    "def is_triangular(matrix):\n",
    "    \n",
    "  #função que checa se a matriz é triangular\n",
    "  n = np.size(matrix, axis = 0)\n",
    "  upper = False\n",
    "  triangular = True\n",
    "\n",
    "  #checa se é triangular superior, inferior, ou se não é triangular\n",
    "  for i in range(n):\n",
    "    for j in range(i):\n",
    "      if matrix[i,j] != 0:\n",
    "        upper = True\n",
    "  if upper:\n",
    "    for i in range(n-1,-1,-1):\n",
    "      for j in range(i+1, n):\n",
    "        if matrix[i,j] != 0:\n",
    "          upper = False\n",
    "          triangular = False\n",
    "          return(triangular, upper)\n",
    "  return(triangular, upper)"
   ]
  },
  {
   "cell_type": "code",
   "execution_count": 64,
   "metadata": {},
   "outputs": [],
   "source": [
    "def determinant(#matriz a ser calculada\n",
    "                matrix,\n",
    "                #cofator\n",
    "                mul = 1):\n",
    " \n",
    "  #tamanho da matriz a ser calculada\n",
    "  n = np.size(matrix, axis = 0)\n",
    " \n",
    "  #checa se a matriz é triangular. se sim, o trabalho é menor\n",
    "  if is_triangular(matrix):\n",
    "    #basta multiplicar os elementos da diagonal\n",
    "    d = matrix[0,0]\n",
    "    for i in range(1, n):\n",
    "      d *= matrix[i,i]\n",
    "    return d\n",
    "  else:\n",
    "    #se a matriz não é triangular, usamos o Teorema de Laplace\n",
    "    if n == 1:\n",
    "      return mul * matrix[0,0]\n",
    "    else:\n",
    "      sign = -1\n",
    "      sum = 0\n",
    "      for i in range(n):\n",
    "        m = np.empty([n-1, n-1])#a operação mais cara da função\n",
    "        #trecho onde o \"append\" foi substituído por associação simples \n",
    "        m[0:n-1, 0:i] = matrix[1:n, 0:i]\n",
    "        m[0:n-1, i:n-1] = matrix[1:n, i+1:n]\n",
    "        sign *= -1\n",
    "        sum += mul * determinant(m, sign * matrix[0, i])\n",
    "      return sum"
   ]
  },
  {
   "cell_type": "markdown",
   "metadata": {},
   "source": [
    "# Eliminação de Gauss\n",
    "\n",
    "Aqui, temos um algoritmo de Eliminação de Gauss que troca linhas sempre que necessário. Se as trocas de linhas não solucionam um problema de pivô nulo, o algoritmo encerra a execução indicando que a matriz é singular. Este foi o recurso usado para checar a singularidade da matriz, como um atalho ao uso do determinante, por economia de recursos. O sucesso na execução da Eliminação tem a dupla vantagem de preparar a solução do problema e facilitar o cálculo do determinante. O algoritmo oferece outra opção de regra de troca de linhas, o \"Pivotamento Parcial\", e também fatoriza a matriz na forma $A = LU$."
   ]
  },
  {
   "cell_type": "code",
   "execution_count": 65,
   "metadata": {},
   "outputs": [],
   "source": [
    "def rowchange(augm, n, k, pivoting = False):\n",
    "  #check for pivoting possibilities\n",
    "  if all(augm[k:, k] == 0):\n",
    "    return    \n",
    "  #pivoting strategies\n",
    "  #partial pivoting strategy\n",
    "  if pivoting:\n",
    "    greater_pivot = np.argmax(np.absolute(augm[k:,k])) + k\n",
    "    if k != greater_pivot:\n",
    "      augm[[k, greater_pivot]] = augm[[greater_pivot, k]]\n",
    "  #pivot equals zero strategy\n",
    "  elif augm[k, k] == 0:\n",
    "    for i in range(k+1,n):\n",
    "      if augm[i, k] != 0:\n",
    "        augm[[k, i]] = augm[[i, k]]\n",
    "        break\n",
    "\n",
    "\n",
    "def gaussian_elimination(A,b, pivoting = False):\n",
    "\n",
    "  # getting n = system size\n",
    "  n = np.size(A, axis = 0)\n",
    "  # check if b is a column vector\n",
    "  b = check_b(b)[0]\n",
    "  #initialize L\n",
    "  L = np.identity(n)\n",
    "  #setting numpy augmented matrix\n",
    "  augm = np.append(np.array(A), b, axis = 1)\n",
    "  #gaussian elimination\n",
    "  for k in range(n-1):\n",
    "    rowchange(augm, n, k, pivoting = pivoting)\n",
    "    if augm[k,k] == 0:\n",
    "      U = augm[:,:n]\n",
    "      b = augm[:,n]\n",
    "      return(L, U, b)\n",
    "    #M = elimination matrix\n",
    "    M = np.identity(n)\n",
    "    M[k+1:,k] = (-1)*np.matrix(augm[k+1:, k]/augm[k, k]).T\n",
    "    augm = np.matmul(M, augm)\n",
    "    augm[k+1:,k] = 0\n",
    "    L[k+1:,k] = (-1)*M[k+1:,k]\n",
    "  U = augm[:,:n]\n",
    "  b = augm[:,n]\n",
    "  return(L, U, b)"
   ]
  },
  {
   "cell_type": "markdown",
   "metadata": {},
   "source": [
    "# Substituição Reversa\n",
    "\n",
    "O algoritmo de Substituição Reversa usa a função que checa se a matriz é triangular, pois esta também retorna informação sobre a matriz ser triangular inferior ou superior. Assim, conforme o caso, o algoritmo aplica a substituição direta, reversa, ou interrompe a execução se a matriz de entrada não é triangular.\n",
    "   "
   ]
  },
  {
   "cell_type": "code",
   "execution_count": 66,
   "metadata": {},
   "outputs": [],
   "source": [
    "def backwards_substitution(T, b):\n",
    "\n",
    "  # getting n = system size\n",
    "  n = np.size(T, axis = 0)\n",
    "  # check if b is a column vector\n",
    "  b = check_b(b)[0]\n",
    "  #initializing x vector\n",
    "  x = np.zeros([n, 1])\n",
    "  #setting numpy augmented matrix\n",
    "  augm = np.append(np.array(T), b, axis = 1)\n",
    "  \n",
    "  #check if T is lower, upper, or not tringular\n",
    "  if not is_triangular(T)[0]:\n",
    "    raise SystemExit(\"Matrix T is not triangular\")\n",
    "    \n",
    "  if is_triangular(T)[1]:\n",
    "    #y substitution loop\n",
    "    for i in range(n):\n",
    "      z = 0\n",
    "      for j in range(i):\n",
    "        z = z  + float(augm[i,j])*x[j]\n",
    "      x[i] = float(augm[i,n] - z)/augm[i,i]\n",
    "  else:\n",
    "    #x substitution loop\n",
    "    for i in range (n-1,-1,-1):\n",
    "      z = 0\n",
    "      for j in range(i+1,n):\n",
    "        z = z  + float(augm[i,j])*x[j]\n",
    "      x[i] = float(augm[i,n] - z)/augm[i,i]\n",
    "\n",
    "  return(np.matrix(x).T)"
   ]
  },
  {
   "cell_type": "markdown",
   "metadata": {},
   "source": [
    "# Resolvendo um Sistema Linear\n",
    "\n",
    "O código para resolver o Sistema pode receber um ou vários vetores para uma mesma matriz $A$. A opção de pivotamento também pode ser definida aqui, e será repassada para o algoritmo de Eliminação, chamado de dentro deste código. Outros algoritmos embutidos aqui são o de Substituição Reversa e o de cálculo do Determinante. O detalhe sobre a aplicação destes dois neste contexto é que a função sempre aproveita as matrizes obtidas da fatoração já processada anteriormente pela Eliminação de Gauss, reduzindo o trabalho a ser executado."
   ]
  },
  {
   "cell_type": "code",
   "execution_count": 67,
   "metadata": {},
   "outputs": [],
   "source": [
    "def solve_linear(A, b, pivoting = False, triangular = False):\n",
    "\n",
    "  #inicializa n, nb, checando se são vários vetores a serem calculados ou um só\n",
    "  n = np.size(A, axis = 0)\n",
    "  b = check_b(b)[0]\n",
    "  nb = check_b(b)[1]\n",
    "\n",
    "  #inicializa a matriz ou vetor que contém o resultado\n",
    "  x = np.empty([n,nb])\n",
    "   \n",
    "  #checa se a matriz é triangular, o que pode indicar menos trabalho necessário\n",
    "  #em caso positivo, a eliminação de gauss não é necessária\n",
    "  if not triangular:\n",
    "    f = gaussian_elimination(A, b[:,0], pivoting = pivoting)\n",
    "    #o algoritmo também aproveita para calcular o determinante pela matriz\n",
    "    #triangular superior obtida da fatoração\n",
    "    d = determinant(f[1])\n",
    "    #checa se o determinante é zero\n",
    "    if d:\n",
    "      x[:,0] = backwards_substitution(f[1], f[2])\n",
    "      #no caso de vários vetores a serem calculados, o algoritmo aproveita\n",
    "      #a fatoração obtida na Eliminação\n",
    "      for i in range(1, nb):\n",
    "        #Ly = b\n",
    "        y = backwards_substitution(f[0], b[:,i])\n",
    "        #Ux = y\n",
    "        x[:,i] = backwards_substitution(f[1], y)\n",
    "  else:\n",
    "    #determinante mais barato!\n",
    "    d = determinant(A)\n",
    "    #checa se o determinante é zero\n",
    "    if d:\n",
    "      #algoritmo para o caso da matriz já ser triangular, quando não é\n",
    "      #necessária a Eliminação de Gauss\n",
    "      x[:,0] = backwards_substitution(A, b[:,0])\n",
    "      for i in range(1, nb):\n",
    "        x[:,i] = backwards_substitution(A, b[:,i])\n",
    "  #retorna o vetor ou matriz com o resultado, e o determinante de A\n",
    "  return(x, d)"
   ]
  },
  {
   "cell_type": "markdown",
   "metadata": {},
   "source": [
    "# Uma função pelos usuários e uma função que saiu de graça\n",
    "\n",
    "Abaixo, a função $check\\_b$ recebe um vetor $b$ em qualquer formato e o transforma em um vetor coluna. Isso é necessário para que possa ser efetuado o \"append\" dos dados de $b$ em $A$ e então obtida a matriz aumentada. A função que saiu de graça é a Inversa de uma matriz:"
   ]
  },
  {
   "cell_type": "code",
   "execution_count": 68,
   "metadata": {},
   "outputs": [],
   "source": [
    "def check_b(b):\n",
    "\n",
    "  #nb será o número de vetores-coluna contidos em b\n",
    "  nb = 1\n",
    "  \n",
    "  #caso em que o vetor inserido é uma lista unidimensional\n",
    "  try:\n",
    "    #neste caso, axis = 1 não vai existir\n",
    "    nb = np.size(b, axis = 1)\n",
    "  except(IndexError):\n",
    "    #então a lista é transformada numa matrix 1xn e depois transposta\n",
    "    b = np.matrix(b).T\n",
    "    \n",
    "  #caso em que o vetor está na forma numpy.array, mas não está transposto\n",
    "  if np.size(b, axis = 0) == 1:\n",
    "    b = np.matrix(b).T\n",
    "  else:\n",
    "    #todos os outros casos\n",
    "    b = np.matrix(b)\n",
    "    nb = np.size(b, axis = 1)\n",
    "    \n",
    "  return(b, nb)\n",
    "\n",
    "\n",
    "def inverse(matrix):\n",
    "  \n",
    "  n = np.size(matrix, axis = 0)\n",
    "  #basta resolver o Sistema onde b é a matriz identidade de ordem n\n",
    "  return(solve_linear(matrix, np.identity(n))[0])\n",
    "  "
   ]
  },
  {
   "cell_type": "markdown",
   "metadata": {},
   "source": [
    "# Decomposição de Cholesky\n",
    "\n",
    "Entender os passos na decomposição de uma matriz fica mais fácil quando o processo de multiplicação de matrizes está claro. Mais ainda no caso desta decomposição, uma vez que sua forma fatorada apresenta a multiplicação de uma matriz por sua transposta: estamos fazendo multiplicações das linhas entre si. A forma triangular também ajuda, por causa dos zeros. Na solução do Sistema, fatoramos $A$ para obter $L$, e então a função $solve\\_linear$ é utilizada para obter $y$ e depois $x$. O determinante é obtido do produto dos determinantes de $L$ e $L^T$."
   ]
  },
  {
   "cell_type": "code",
   "execution_count": 69,
   "metadata": {},
   "outputs": [],
   "source": [
    "def cholesky(A):\n",
    "            \n",
    "  #obtendo o tamanho da matriz e inicializando a matriz resultante L\n",
    "  n = A.shape[0]\n",
    "  L = np.empty([n,n])\n",
    "\n",
    "  # Cholesky decomposition - preenchendo L\n",
    "  for row in range(n):\n",
    "    for col in range(row+1):\n",
    "      #somatória\n",
    "      tmp_sum = 0.0\n",
    "      for j in range(col):\n",
    "        tmp_sum += L[row,j] * L[col,j]\n",
    "      \n",
    "      if row == col: \n",
    "       # elementos na diagonal\n",
    "        L[row,col] = sqrt(A[row,row] - tmp_sum)\n",
    "      else:\n",
    "        # elementos fora da diagonal\n",
    "        L[row,col] = ((A[row,col] - tmp_sum)/L[col,col])\n",
    "    \n",
    "    #zerar os elementos acima da diagonal\n",
    "    L[row, row+1:] = 0.0\n",
    "    \n",
    "  return L\n",
    "\n",
    "def solve_cholesky(A, b):\n",
    "    \n",
    "  #fatorar A\n",
    "  L = cholesky(A)\n",
    "  #Ly = b\n",
    "  s1 = solve_linear(L, b)\n",
    "  y = s1[0]\n",
    "  #Ltx = y\n",
    "  s2 = solve_linear(L.T, y)\n",
    "  x = s2[0]\n",
    "  #det(AB) = det(A)det(B)\n",
    "  d = s1[1]*s2[1]\n",
    "  return(x, d)"
   ]
  },
  {
   "cell_type": "markdown",
   "metadata": {},
   "source": [
    "# A Matriz de Hilbert\n",
    "\n",
    "Script que gera a tabela de dados. A linha $i$, começando em $1$, contém o determinante e erro associado à Matriz de Hilbert de tamanho $i$. A implementação dos scripts auxiliares, um calculando a $norma 2$ de um dado vetor e outro gerando uma Matriz de Hilbert de tamanho $n$, também é bastante simples. "
   ]
  },
  {
   "cell_type": "code",
   "execution_count": null,
   "metadata": {},
   "outputs": [],
   "source": [
    "def vnorm2(vector):\n",
    "  #calcula a norma 2 de um vetor\n",
    "  return(sqrt(sum(vector[:,0]**2)))\n",
    "\n",
    "def hilbert(n):\n",
    "\n",
    "  #gera uma matriz de Hilbert de ordem n\n",
    "  h = np.empty([n,n])\n",
    "  for i in range(n):\n",
    "    for j in range(n):\n",
    "      h[i,j] = 1/(i+j+1)\n",
    "  \n",
    "  return(h)\n",
    "\n",
    "def hilbert_error(npoints, pivoting = False):\n",
    "    \n",
    "  ###gera uma tabela com \"npoints\" linhas que contém:\n",
    "  #na linha i, coluna 0, o valor do determinante de matriz de\n",
    "  #Hilbert de ordem \"i\" - H(i)\n",
    "  #na linha i, coluna 1, o valor do erro obtido do Sistema\n",
    "  #H(i)x = H(i)[1, 1, 1...].T  \n",
    "  \n",
    "  #inicializa a tabela\n",
    "  y = np.empty([npoints, 2])\n",
    "    \n",
    "  for i in range(npoints):\n",
    "  \n",
    "    #gera a matriz de Hilbert\n",
    "    h = hilbert(i+1)\n",
    "    #gera o vetor unitário\n",
    "    ones = np.ones([i+1, 1])\n",
    "    #linha abaixo comentada, mas pode ser testado o código usando este\n",
    "    #determinante para comparar o tempo de execução\n",
    "    #d = determinant(h)\n",
    "    #gerar o \"b\" esperado\n",
    "    b = np.matmul(h, ones)\n",
    "    #resolver o sistema\n",
    "    s = solve_linear(h, b, pivoting = pivoting)\n",
    "    #obter x\n",
    "    x = s[0]\n",
    "    #obter o determinante - comentar quando testar a outra opção de implementação\n",
    "    d = s[1]\n",
    "    #diferença entre o vetor unitário e a solução obtida\n",
    "    diff = ones - x\n",
    "    #norma 2 da diferença\n",
    "    e = vnorm2(diff)\n",
    "    #grava na tabela\n",
    "    y[i, 0], y[i, 1] = d, e\n",
    "    \n",
    "  return(y)   "
   ]
  },
  {
   "cell_type": "markdown",
   "metadata": {},
   "source": [
    "# A Matriz Simétrica Positiva Definida\n",
    "\n",
    "Este segundo script imita o primeiro no que é possível. O único detalhe é a checagem do determinante da matriz aleatória gerada antes de prosseguir para a geração da Matriz Positiva Definida."
   ]
  },
  {
   "cell_type": "code",
   "execution_count": 3,
   "metadata": {},
   "outputs": [],
   "source": [
    "def positive_definite_error(npoints, pivoting = False):\n",
    "\n",
    "  ###gera uma tabela com \"npoints\" linhas que contém:\n",
    "  #na linha i, coluna 0, o valor do determinante de matriz\n",
    "  #simétrica positiva definida de ordem \"i\" - P(i)\n",
    "  #na linha i, coluna 1, o valor do erro obtido do Sistema\n",
    "  #P(i)x = P(i)[1, 1, 1...].T  \n",
    "  \n",
    "  #inicializa a tabela\n",
    "  y = np.empty([npoints, 2])\n",
    "    \n",
    "  for i in range(npoints):\n",
    "  \n",
    "    #gerar uma matriz aleatória\n",
    "    r = np.random.rand(i+1, i+1)\n",
    "    #descomentar a linha abaixo para testar o tempo de execução\n",
    "    #- Não esquecer de alterar o if!!!!!!\n",
    "    #d = determinant(r)\n",
    "    #checa se o determinante é zero usando a matriz fatorada\n",
    "    #(em python, diferente de 0 é \"verdadeiro\")\n",
    "    if solve_linear(r, np.ones(i+1))[1]:\n",
    "      #gerar a matriz simétrica positiva definida\n",
    "      simetric = np.matmul(r, r.T)\n",
    "      #gerar o vetor unitário\n",
    "      ones = np.ones([i+1, 1])\n",
    "      #gerar o \"b\" esperado\n",
    "      b = np.matmul(simetric, ones)\n",
    "      #resolver o sistema\n",
    "      s = solve_cholesky(simetric, b)\n",
    "      #obter x\n",
    "      x = s[0]\n",
    "      #determinante - não confundir com o determinante da matriz aleatória\n",
    "      d = s[1]\n",
    "      #diferença entre o vetor unitário e a solução obtida\n",
    "      diff = ones - x\n",
    "      #norma 2 da diferença\n",
    "      e = vnorm2(diff)\n",
    "      #grava na tabela\n",
    "      y[i, 0], y[i, 1] = d, e\n",
    "    \n",
    "  return(y)"
   ]
  },
  {
   "cell_type": "markdown",
   "metadata": {},
   "source": [
    "# Gerando os Dados"
   ]
  },
  {
   "cell_type": "code",
   "execution_count": 72,
   "metadata": {},
   "outputs": [
    {
     "name": "stdout",
     "output_type": "stream",
     "text": [
      "Dados: Matrizes de Hilbert, sem pivotamento\n",
      " [[ 1.00000000e+000  0.00000000e+000]\n",
      " [ 8.33333333e-002  8.00593208e-016]\n",
      " [ 4.62962963e-004  1.09956928e-014]\n",
      " [ 1.65343915e-007  1.53109376e-013]\n",
      " [ 3.74929513e-012  3.06086402e-011]\n",
      " [ 5.36729989e-018  7.25814232e-010]\n",
      " [ 4.83580260e-025  2.30667777e-009]\n",
      " [ 2.73705008e-033  8.02344224e-007]\n",
      " [ 9.72026971e-043  2.34183759e-005]\n",
      " [ 2.16448050e-053  9.75841638e-004]\n",
      " [ 3.02914646e-065  3.54903947e-003]\n",
      " [ 2.84034362e-078  7.14922123e-001]\n",
      " [ 3.48143369e-092  1.01568906e+001]\n",
      " [-7.84870966e-107  2.25833302e+000]\n",
      " [-1.46617903e-120  1.39623741e+001]\n",
      " [ 5.90894253e-136  1.22761189e+002]\n",
      " [ 2.65045628e-150  1.54663031e+001]\n",
      " [-6.17716845e-166  1.43536728e+002]\n",
      " [-2.09814525e-180  1.88280690e+001]\n",
      " [ 4.25531153e-196  7.90323371e+001]\n",
      " [ 1.65487093e-211  7.69299329e+001]\n",
      " [ 6.21089591e-227  1.11092217e+002]\n",
      " [ 8.56465371e-243  5.79700328e+001]\n",
      " [-3.85087156e-258  4.63083994e+001]\n",
      " [-1.87982364e-274  1.17255468e+002]\n",
      " [-7.88495157e-290  2.88663413e+002]\n",
      " [ 4.92604024e-305  1.88772242e+002]\n",
      " [ 3.21142670e-322  2.66539513e+002]\n",
      " [ 0.00000000e+000  4.49585635e+000]\n",
      " [ 0.00000000e+000  4.58391889e+000]\n",
      " [ 0.00000000e+000  4.67043860e+000]\n",
      " [ 0.00000000e+000  4.75549240e+000]\n",
      " [ 0.00000000e+000  4.83915112e+000]\n",
      " [-0.00000000e+000  4.92148007e+000]\n",
      " [ 0.00000000e+000  5.00253970e+000]\n",
      " [ 0.00000000e+000  5.08238603e+000]\n",
      " [ 0.00000000e+000  5.16107111e+000]\n",
      " [ 0.00000000e+000  5.23864340e+000]\n",
      " [-0.00000000e+000  5.31514813e+000]\n",
      " [ 0.00000000e+000  5.39062753e+000]] \n",
      "\n",
      "Dados: Matrizes de Hilbert, com pivotamento\n",
      " [[ 1.00000000e+000  0.00000000e+000]\n",
      " [ 8.33333333e-002  8.00593208e-016]\n",
      " [-4.62962963e-004  1.44776658e-014]\n",
      " [-1.65343915e-007  1.91558776e-013]\n",
      " [ 3.74929513e-012  2.82599205e-011]\n",
      " [ 5.36729989e-018  5.58009776e-010]\n",
      " [ 4.83580261e-025  4.01073011e-009]\n",
      " [ 2.73705014e-033  9.27819413e-007]\n",
      " [ 9.72026604e-043  1.62370815e-005]\n",
      " [ 2.16440167e-053  9.59257596e-004]\n",
      " [ 3.02666699e-065  8.86354338e-003]\n",
      " [-2.83325475e-078  4.40774735e-001]\n",
      " [ 4.11145045e-092  8.79881476e+000]\n",
      " [ 1.67665186e-107  1.92425963e+001]\n",
      " [-1.42436834e-120  1.29130279e+001]\n",
      " [-2.03710278e-135  2.69947414e+001]\n",
      " [-5.11374772e-150  1.32607493e+001]\n",
      " [-9.11536319e-167  1.02763755e+002]\n",
      " [-3.49248591e-181  1.39176968e+001]\n",
      " [-1.56799283e-195  4.57405015e+001]\n",
      " [ 2.22063329e-211  6.23083675e+001]\n",
      " [ 3.31150771e-226  8.69869359e+001]\n",
      " [-2.64537428e-241  3.83193719e+001]\n",
      " [ 1.45222348e-257  1.03240440e+002]\n",
      " [ 1.72428181e-274  3.07966987e+002]\n",
      " [ 5.63234933e-290  1.19235103e+002]\n",
      " [ 5.55860407e-305  8.43546953e+001]\n",
      " [ 1.03753786e-321  1.04637641e+002]\n",
      " [ 0.00000000e+000  4.49585635e+000]\n",
      " [ 0.00000000e+000  4.58391889e+000]\n",
      " [ 0.00000000e+000  4.67043860e+000]\n",
      " [ 0.00000000e+000  4.75549240e+000]\n",
      " [ 0.00000000e+000  4.83915112e+000]\n",
      " [-0.00000000e+000  4.92148007e+000]\n",
      " [ 0.00000000e+000  5.00253970e+000]\n",
      " [-0.00000000e+000  5.08238603e+000]\n",
      " [-0.00000000e+000  5.16107111e+000]\n",
      " [ 0.00000000e+000  5.23864340e+000]\n",
      " [-0.00000000e+000  5.31514813e+000]\n",
      " [ 0.00000000e+000  5.39062753e+000]] \n",
      "\n",
      "Dados: Matrizes Simétricas Positivas Definidas\n",
      " [[2.66104049e-02 0.00000000e+00]\n",
      " [6.43549546e-04 2.17399699e-14]\n",
      " [4.16383771e-03 9.15580674e-15]\n",
      " [2.63937991e-02 2.68527125e-15]\n",
      " [1.42681526e-04 5.20850492e-13]\n",
      " [4.54060323e-03 7.26515221e-14]\n",
      " [5.10586480e-05 2.37689543e-12]\n",
      " [1.07618002e-05 2.64608690e-12]\n",
      " [3.74500462e-05 2.94215724e-12]\n",
      " [2.76330564e-04 7.24316512e-14]\n",
      " [6.11175523e-04 4.27261596e-13]\n",
      " [5.37050301e-05 7.19381653e-12]\n",
      " [1.07945635e-04 5.71587755e-13]\n",
      " [3.58975083e-04 4.23669203e-12]\n",
      " [9.35357769e-04 6.58529103e-13]\n",
      " [1.27591283e-03 7.75859771e-13]\n",
      " [1.42044663e-04 1.02259158e-11]\n",
      " [3.53549076e-04 4.50225122e-12]\n",
      " [5.19532521e-05 3.36478094e-11]\n",
      " [2.80007817e-03 8.54681396e-12]\n",
      " [9.29457378e-04 5.07477484e-12]\n",
      " [3.31254199e-03 6.48756425e-11]\n",
      " [2.20196897e-03 5.06657874e-11]\n",
      " [5.03777381e-02 2.69032914e-12]\n",
      " [1.40423376e-04 1.86595269e-08]\n",
      " [4.77805641e-01 4.51403098e-12]\n",
      " [3.72737695e+00 5.38650883e-12]\n",
      " [2.46541336e+00 4.16828911e-12]\n",
      " [3.67443390e-02 1.47350551e-09]\n",
      " [2.33470334e+00 7.89621932e-11]\n",
      " [3.51409292e+01 1.76941518e-12]\n",
      " [8.11409910e-02 1.54624908e-09]\n",
      " [2.61283992e+03 4.01404799e-12]\n",
      " [2.58210407e+03 6.65736668e-12]\n",
      " [7.94583680e+04 5.56160829e-12]\n",
      " [9.89042719e+01 1.66900334e-09]\n",
      " [4.19459634e+04 7.57896857e-12]\n",
      " [2.65601606e+03 1.75075284e-11]\n",
      " [3.04835833e+00 3.91217451e-09]\n",
      " [4.07908287e+04 6.34286746e-11]]\n"
     ]
    }
   ],
   "source": [
    "#gerando os dados\n",
    "hsp = hilbert_error(40)\n",
    "hcp = hilbert_error(40, pivoting = True)\n",
    "pd = positive_definite_error(40)\n",
    "#mostrando as tabelas\n",
    "print(\"Dados: Matrizes de Hilbert, sem pivotamento\\n\", hsp, \"\\n\")\n",
    "print(\"Dados: Matrizes de Hilbert, com pivotamento\\n\", hcp, \"\\n\")\n",
    "print(\"Dados: Matrizes Simétricas Positivas Definidas\\n\", pd)\n",
    "# x axis values \n",
    "x = np.arange(1, 41)\n",
    "# corresponding y axis values \n",
    "y1 = hsp[:,0] \n",
    "y2 = hsp[:,1]\n",
    "y3 = hcp[:,0]\n",
    "y4 = hcp[:,1]\n",
    "y5 = pd[:,0]\n",
    "y6 = pd[:,1]"
   ]
  },
  {
   "cell_type": "markdown",
   "metadata": {},
   "source": [
    "# Comparando Resultados\n",
    "\n",
    "Para as matrizes de Hilbert, os gráficos dos determinantes são, claro, idênticos. Mas os gráficos do Erro, apesar do pivotamento, são muito parecidos. Mesmo observando os dados, as diferenças não são muito grandes. Observa-se então que os erros aumentam porque a matriz se torna cada vez mais próxima de ser singular. Isso significa que os vetores da Matriz de Hilbert, conforme o tamanho desta aumenta, se tornam quase combinações lineares uns dos outros, e quando é processada a Eliminação de Gauss, números muito próximos de zero são gerados. A precisão do computador é limitada, e a Matriz de Hilbert é definida de uma maneira que se atinja esse limite rapidamente, produzindo maiores erros. Já para a matriz gerada aleatoriamente, o erro não parece ter grande relação com o tamanho da matriz nem com o determinante, podendo ser encontrados trechos onde o determinante decresce e o erro também, assim como o determinante crescendo e o erro também. Enquanto a Matriz de Hilbert de tamanho $15$ já apresenta norma do erro próxima de $100$, a Matriz Aleatória tem seu erro controlado em até $1.86595269e-08$."
   ]
  },
  {
   "cell_type": "code",
   "execution_count": 73,
   "metadata": {},
   "outputs": [
    {
     "data": {
      "image/png": "[encoded data removed]",
      "text/plain": [
       "<Figure size 432x288 with 1 Axes>"
      ]
     },
     "metadata": {
      "needs_background": "light"
     },
     "output_type": "display_data"
    }
   ],
   "source": [
    "###############################\n",
    "plt.yscale('log')\n",
    "plt.plot(x, y1, 'ro')\n",
    "# naming the x axis \n",
    "plt.xlabel('n - Tamanho da Matriz') \n",
    "# naming the y axis \n",
    "plt.ylabel('Erro / Determinante')   \n",
    "# giving a title to my graph \n",
    "plt.title('Matrizes de Hilbert, sem pivotamento - Determinante')\n",
    "# function to show the plot\n",
    "plt.grid(True) \n",
    "plt.show()"
   ]
  },
  {
   "cell_type": "code",
   "execution_count": 74,
   "metadata": {},
   "outputs": [
    {
     "data": {
      "image/png": "[encoded data removed]",
      "text/plain": [
       "<Figure size 432x288 with 1 Axes>"
      ]
     },
     "metadata": {
      "needs_background": "light"
     },
     "output_type": "display_data"
    }
   ],
   "source": [
    "###############################\n",
    "plt.yscale('log')\n",
    "plt.plot(x, y2)\n",
    "# naming the x axis \n",
    "plt.xlabel('n - Tamanho da Matriz') \n",
    "# naming the y axis \n",
    "plt.ylabel('Erro / Determinante')   \n",
    "# giving a title to my graph \n",
    "plt.title('Matrizes de Hilbert, sem pivotamento - Norma do erro')\n",
    "# function to show the plot\n",
    "plt.grid(True) \n",
    "plt.show()"
   ]
  },
  {
   "cell_type": "code",
   "execution_count": 75,
   "metadata": {},
   "outputs": [
    {
     "data": {
      "image/png": "[encoded data removed]",
      "text/plain": [
       "<Figure size 432x288 with 1 Axes>"
      ]
     },
     "metadata": {
      "needs_background": "light"
     },
     "output_type": "display_data"
    }
   ],
   "source": [
    "###############################\n",
    "plt.yscale('log')\n",
    "plt.plot(x, y3, 'ro')\n",
    "# naming the x axis \n",
    "plt.xlabel('n - Tamanho da Matriz') \n",
    "# naming the y axis \n",
    "plt.ylabel('Erro / Determinante')   \n",
    "# giving a title to my graph \n",
    "plt.title('Matrizes de Hilbert, com pivotamento - Determinante')\n",
    "# function to show the plot\n",
    "plt.grid(True)\n",
    "plt.show()"
   ]
  },
  {
   "cell_type": "code",
   "execution_count": 76,
   "metadata": {},
   "outputs": [
    {
     "data": {
      "image/png": "[encoded data removed]",
      "text/plain": [
       "<Figure size 432x288 with 1 Axes>"
      ]
     },
     "metadata": {
      "needs_background": "light"
     },
     "output_type": "display_data"
    }
   ],
   "source": [
    "###############################\n",
    "plt.yscale('log')\n",
    "plt.plot(x, y4)\n",
    "# naming the x axis \n",
    "plt.xlabel('n - Tamanho da Matriz') \n",
    "# naming the y axis \n",
    "plt.ylabel('Erro / Determinante')   \n",
    "# giving a title to my graph \n",
    "plt.title('Matrizes de Hilbert, com pivotamento - Norma do erro')\n",
    "# function to show the plot\n",
    "plt.grid(True)\n",
    "plt.show()"
   ]
  },
  {
   "cell_type": "code",
   "execution_count": 77,
   "metadata": {},
   "outputs": [
    {
     "data": {
      "image/png": "[encoded data removed]",
      "text/plain": [
       "<Figure size 432x288 with 1 Axes>"
      ]
     },
     "metadata": {
      "needs_background": "light"
     },
     "output_type": "display_data"
    }
   ],
   "source": [
    "###############################\n",
    "plt.yscale('log')\n",
    "plt.plot(x, y5)\n",
    "# naming the x axis \n",
    "plt.xlabel('n - Tamanho da Matriz') \n",
    "# naming the y axis \n",
    "plt.ylabel('Erro / Determinante')   \n",
    "# giving a title to my graph \n",
    "plt.title('Matrizes Aleatorias - Determinante')\n",
    "# function to show the plot\n",
    "plt.grid(True)\n",
    "plt.show()"
   ]
  },
  {
   "cell_type": "code",
   "execution_count": 61,
   "metadata": {},
   "outputs": [
    {
     "data": {
      "image/png": "[encoded data removed]",
      "text/plain": [
       "<Figure size 432x288 with 1 Axes>"
      ]
     },
     "metadata": {
      "needs_background": "light"
     },
     "output_type": "display_data"
    }
   ],
   "source": [
    "###############################\n",
    "plt.yscale('log')\n",
    "plt.plot(x, y6)\n",
    "# naming the x axis \n",
    "plt.xlabel('n - Tamanho da Matriz') \n",
    "# naming the y axis \n",
    "plt.ylabel('Erro / Determinante')   \n",
    "# giving a title to my graph \n",
    "plt.title('Matrizes Aleatorias - Norma do erro')\n",
    "# function to show the plot\n",
    "plt.grid(True)\n",
    "plt.show()"
   ]
  }
 ],
 "metadata": {
  "kernelspec": {
   "display_name": "Python 3",
   "language": "python",
   "name": "python3"
  },
  "language_info": {
   "codemirror_mode": {
    "name": "ipython",
    "version": 3
   },
   "file_extension": ".py",
   "mimetype": "text/x-python",
   "name": "python",
   "nbconvert_exporter": "python",
   "pygments_lexer": "ipython3",
   "version": "3.7.3"
  },
  "latex_envs": {
   "LaTeX_envs_menu_present": true,
   "autoclose": false,
   "autocomplete": true,
   "bibliofile": "biblio.bib",
   "cite_by": "apalike",
   "current_citInitial": 1,
   "eqLabelWithNumbers": true,
   "eqNumInitial": 1,
   "hotkeys": {
    "equation": "Ctrl-E",
    "itemize": "Ctrl-I"
   },
   "labels_anchors": false,
   "latex_user_defs": false,
   "report_style_numbering": false,
   "user_envs_cfg": false
  }
 },
 "nbformat": 4,
 "nbformat_minor": 2
}
